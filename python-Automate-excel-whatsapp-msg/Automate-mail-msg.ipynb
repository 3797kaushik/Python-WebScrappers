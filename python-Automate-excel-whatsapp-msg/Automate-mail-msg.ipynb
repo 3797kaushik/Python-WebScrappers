{
 "cells": [
  {
   "cell_type": "code",
   "execution_count": 7,
   "metadata": {},
   "outputs": [
    {
     "name": "stdout",
     "output_type": "stream",
     "text": [
      "Please confirm if you have logged into gmail and web whatsapp online (y/n)y\n",
      "loggedIn as per user confirmation\n"
     ]
    }
   ],
   "source": [
    "import pyautogui\n",
    "from selenium import webdriver\n",
    "import pandas as pd\n",
    "loggedIn =  input(\"Please confirm if you have logged into gmail and web whatsapp online (y/n)\")\n",
    "loggedIn = str(loggedIn)\n",
    "\n",
    "if loggedIn[0] =='Y' or loggedIn[0]=='y':\n",
    "    print(\"loggedIn as per user confirmation\")\n",
    "    \n",
    "    "
   ]
  },
  {
   "cell_type": "markdown",
   "metadata": {},
   "source": [
    "## Connecting to gmail using selenium which is blocked by google"
   ]
  },
  {
   "cell_type": "code",
   "execution_count": 17,
   "metadata": {},
   "outputs": [
    {
     "name": "stdout",
     "output_type": "stream",
     "text": [
      "installing webdriver\n"
     ]
    },
    {
     "name": "stderr",
     "output_type": "stream",
     "text": [
      "[WDM] - Current google-chrome version is 86.0.4240\n",
      "[WDM] - Get LATEST driver version for 86.0.4240\n"
     ]
    },
    {
     "name": "stdout",
     "output_type": "stream",
     "text": [
      "Requirement already satisfied: webdriver-manager in d:\\all-software-installers\\anaconda\\lib\\site-packages (3.2.2)\n",
      "Requirement already satisfied: configparser in d:\\all-software-installers\\anaconda\\lib\\site-packages (from webdriver-manager) (5.0.1)\n",
      "Requirement already satisfied: crayons in d:\\all-software-installers\\anaconda\\lib\\site-packages (from webdriver-manager) (0.4.0)\n",
      "Requirement already satisfied: requests in d:\\all-software-installers\\anaconda\\lib\\site-packages (from webdriver-manager) (2.24.0)\n",
      "Requirement already satisfied: colorama in d:\\all-software-installers\\anaconda\\lib\\site-packages (from crayons->webdriver-manager) (0.4.3)\n",
      "Requirement already satisfied: urllib3!=1.25.0,!=1.25.1,<1.26,>=1.21.1 in d:\\all-software-installers\\anaconda\\lib\\site-packages (from requests->webdriver-manager) (1.25.9)\n",
      "Requirement already satisfied: idna<3,>=2.5 in d:\\all-software-installers\\anaconda\\lib\\site-packages (from requests->webdriver-manager) (2.10)\n",
      "Requirement already satisfied: chardet<4,>=3.0.2 in d:\\all-software-installers\\anaconda\\lib\\site-packages (from requests->webdriver-manager) (3.0.4)\n",
      "Requirement already satisfied: certifi>=2017.4.17 in d:\\all-software-installers\\anaconda\\lib\\site-packages (from requests->webdriver-manager) (2020.6.20)\n",
      " \n"
     ]
    },
    {
     "name": "stderr",
     "output_type": "stream",
     "text": [
      "[WDM] - Driver [C:\\Users\\kaushik.mesala\\.wdm\\drivers\\chromedriver\\win32\\86.0.4240.22\\chromedriver.exe] found in cache\n"
     ]
    }
   ],
   "source": [
    "URL = 'https://mail.google.com/'\n",
    "USERNAME = ''\n",
    "PASSWORD = ''\n",
    "\n",
    "try:\n",
    "    driver= webdriver.Chrome()\n",
    "except:\n",
    "    print('installing webdriver')\n",
    "    !pip install webdriver-manager\n",
    "    from webdriver_manager.chrome import ChromeDriverManager\n",
    "\n",
    "    driver = webdriver.Chrome(ChromeDriverManager().install())\n",
    "driver.get(URL)\n",
    "\n",
    "searchbox = driver.find_element_by_xpath('//*[@id=\"identifierId\"]')\n",
    "searchbox.send_keys(USERNAME)\n",
    "\n",
    "searchButton = driver.find_element_by_xpath('//*[@id=\"identifierNext\"]/div/button')\n",
    "searchButton.click()\n",
    "\n",
    "searchbox = driver.find_element_by_xpath('//*[@id=\"identifierId\"]')\n",
    "searchbox.send_keys(PASSWORD)"
   ]
  },
  {
   "cell_type": "markdown",
   "metadata": {},
   "source": [
    "## Connecting to the Gmail using webbrowser module "
   ]
  },
  {
   "cell_type": "code",
   "execution_count": 25,
   "metadata": {},
   "outputs": [],
   "source": [
    "import webbrowser\n",
    "\n",
    "url = 'https://mail.google.com/'\n",
    "\n",
    "# MacOS\n",
    "#chrome_path = 'open -a /Applications/Google\\ Chrome.app %s'\n",
    "\n",
    "# Windows\n",
    "chrome_path = 'C:/Program Files/Google/Chrome/Application/chrome.exe %s'\n",
    "\n",
    "# Linux\n",
    "# chrome_path = '/usr/bin/google-chrome %s'\n",
    "\n",
    "t = webbrowser.get(chrome_path).open(url)\n",
    "import time\n",
    "time.sleep(50)   # Delays for 5 seconds.\n",
    "\n",
    "pyautogui.hotkey('ctrl')\n",
    "pyautogui.hotkey('n')"
   ]
  },
  {
   "cell_type": "code",
   "execution_count": 17,
   "metadata": {},
   "outputs": [],
   "source": []
  },
  {
   "cell_type": "markdown",
   "metadata": {},
   "source": [
    "## Connecting to the Gmail using selenium "
   ]
  },
  {
   "cell_type": "code",
   "execution_count": 9,
   "metadata": {},
   "outputs": [
    {
     "name": "stdout",
     "output_type": "stream",
     "text": [
      "installing webdriver\n"
     ]
    },
    {
     "name": "stderr",
     "output_type": "stream",
     "text": [
      "[WDM] - Current google-chrome version is 86.0.4240\n",
      "[WDM] - Get LATEST driver version for 86.0.4240\n"
     ]
    },
    {
     "name": "stdout",
     "output_type": "stream",
     "text": [
      "Requirement already satisfied: webdriver-manager in d:\\all-software-installers\\anaconda\\lib\\site-packages (3.2.2)\n",
      "Requirement already satisfied: crayons in d:\\all-software-installers\\anaconda\\lib\\site-packages (from webdriver-manager) (0.4.0)\n",
      "Requirement already satisfied: configparser in d:\\all-software-installers\\anaconda\\lib\\site-packages (from webdriver-manager) (5.0.1)\n",
      "Requirement already satisfied: requests in d:\\all-software-installers\\anaconda\\lib\\site-packages (from webdriver-manager) (2.24.0)\n",
      "Requirement already satisfied: colorama in d:\\all-software-installers\\anaconda\\lib\\site-packages (from crayons->webdriver-manager) (0.4.3)\n",
      "Requirement already satisfied: idna<3,>=2.5 in d:\\all-software-installers\\anaconda\\lib\\site-packages (from requests->webdriver-manager) (2.10)\n",
      "Requirement already satisfied: certifi>=2017.4.17 in d:\\all-software-installers\\anaconda\\lib\\site-packages (from requests->webdriver-manager) (2020.6.20)\n",
      "Requirement already satisfied: chardet<4,>=3.0.2 in d:\\all-software-installers\\anaconda\\lib\\site-packages (from requests->webdriver-manager) (3.0.4)\n",
      "Requirement already satisfied: urllib3!=1.25.0,!=1.25.1,<1.26,>=1.21.1 in d:\\all-software-installers\\anaconda\\lib\\site-packages (from requests->webdriver-manager) (1.25.9)\n",
      " \n"
     ]
    },
    {
     "name": "stderr",
     "output_type": "stream",
     "text": [
      "[WDM] - Driver [C:\\Users\\kaushik.mesala\\.wdm\\drivers\\chromedriver\\win32\\86.0.4240.22\\chromedriver.exe] found in cache\n"
     ]
    },
    {
     "ename": "AttributeError",
     "evalue": "'NoneType' object has no attribute 'send_keys'",
     "output_type": "error",
     "traceback": [
      "\u001b[1;31m---------------------------------------------------------------------------\u001b[0m",
      "\u001b[1;31mAttributeError\u001b[0m                            Traceback (most recent call last)",
      "\u001b[1;32m<ipython-input-9-e0dbf6a3eba9>\u001b[0m in \u001b[0;36m<module>\u001b[1;34m\u001b[0m\n\u001b[0;32m     22\u001b[0m \u001b[1;33m\u001b[0m\u001b[0m\n\u001b[0;32m     23\u001b[0m \u001b[0mdriver\u001b[0m\u001b[1;33m.\u001b[0m\u001b[0mimplicitly_wait\u001b[0m\u001b[1;33m(\u001b[0m\u001b[1;36m60\u001b[0m\u001b[1;33m)\u001b[0m\u001b[1;33m\u001b[0m\u001b[1;33m\u001b[0m\u001b[0m\n\u001b[1;32m---> 24\u001b[1;33m \u001b[0mdriver\u001b[0m\u001b[1;33m.\u001b[0m\u001b[0mfind_element_by_name\u001b[0m\u001b[1;33m(\u001b[0m\u001b[1;34m'password'\u001b[0m\u001b[1;33m)\u001b[0m\u001b[1;33m.\u001b[0m\u001b[0msend_keys\u001b[0m\u001b[1;33m(\u001b[0m\u001b[0mgmail_password\u001b[0m\u001b[1;33m)\u001b[0m\u001b[1;33m\u001b[0m\u001b[1;33m\u001b[0m\u001b[0m\n\u001b[0m\u001b[0;32m     25\u001b[0m \u001b[0mdriver\u001b[0m\u001b[1;33m.\u001b[0m\u001b[0mfind_element_by_id\u001b[0m\u001b[1;33m(\u001b[0m\u001b[1;34m'passwordNext'\u001b[0m\u001b[1;33m)\u001b[0m\u001b[1;33m.\u001b[0m\u001b[0mclick\u001b[0m\u001b[1;33m(\u001b[0m\u001b[1;33m)\u001b[0m\u001b[1;33m\u001b[0m\u001b[1;33m\u001b[0m\u001b[0m\n",
      "\u001b[1;31mAttributeError\u001b[0m: 'NoneType' object has no attribute 'send_keys'"
     ]
    }
   ],
   "source": [
    "\n",
    "from selenium import webdriver\n",
    "\n",
    "url = 'https://www.gmail.com'\n",
    "chrome_driver_location = '/Users/me/Desktop/gmail account login/utilities/chromedriver'\n",
    "gmail_username = 'sweedot@gmail.com'\n",
    "gmail_password = 'Kaushik@78'\n",
    "\n",
    "\n",
    "try:\n",
    "    driver= webdriver.Chrome()\n",
    "except:\n",
    "    print('installing webdriver')\n",
    "    !pip install webdriver-manager\n",
    "    from webdriver_manager.chrome import ChromeDriverManager\n",
    "    driver = webdriver.Chrome(ChromeDriverManager().install())\n",
    "    \n",
    "driver.get(url)\n",
    "\n",
    "driver.implicitly_wait(60)\n",
    "driver.find_element_by_id('identifierId').send_keys(gmail_username)\n",
    "driver.find_element_by_id('identifierNext').click()\n",
    "\n",
    "driver.implicitly_wait(60)\n",
    "driver.find_element_by_name('password').send_keys(gmail_password)\n",
    "driver.find_element_by_id('passwordNext').click()"
   ]
  },
  {
   "cell_type": "code",
   "execution_count": null,
   "metadata": {},
   "outputs": [],
   "source": []
  },
  {
   "cell_type": "markdown",
   "metadata": {},
   "source": [
    "## connecting to the web whatsapp using selenium is not an ideal as cache is deleted it is expecting each time scan"
   ]
  },
  {
   "cell_type": "code",
   "execution_count": 18,
   "metadata": {},
   "outputs": [
    {
     "name": "stdout",
     "output_type": "stream",
     "text": [
      "installing webdriver\n"
     ]
    },
    {
     "name": "stderr",
     "output_type": "stream",
     "text": [
      "[WDM] - Current google-chrome version is 86.0.4240\n",
      "[WDM] - Get LATEST driver version for 86.0.4240\n"
     ]
    },
    {
     "name": "stdout",
     "output_type": "stream",
     "text": [
      "Requirement already satisfied: webdriver-manager in d:\\all-software-installers\\anaconda\\lib\\site-packages (3.2.2)\n",
      "Requirement already satisfied: configparser in d:\\all-software-installers\\anaconda\\lib\\site-packages (from webdriver-manager) (5.0.1)\n",
      "Requirement already satisfied: crayons in d:\\all-software-installers\\anaconda\\lib\\site-packages (from webdriver-manager) (0.4.0)\n",
      "Requirement already satisfied: requests in d:\\all-software-installers\\anaconda\\lib\\site-packages (from webdriver-manager) (2.24.0)\n",
      "Requirement already satisfied: colorama in d:\\all-software-installers\\anaconda\\lib\\site-packages (from crayons->webdriver-manager) (0.4.3)\n",
      "Requirement already satisfied: certifi>=2017.4.17 in d:\\all-software-installers\\anaconda\\lib\\site-packages (from requests->webdriver-manager) (2020.6.20)\n",
      "Requirement already satisfied: idna<3,>=2.5 in d:\\all-software-installers\\anaconda\\lib\\site-packages (from requests->webdriver-manager) (2.10)\n",
      "Requirement already satisfied: chardet<4,>=3.0.2 in d:\\all-software-installers\\anaconda\\lib\\site-packages (from requests->webdriver-manager) (3.0.4)\n",
      "Requirement already satisfied: urllib3!=1.25.0,!=1.25.1,<1.26,>=1.21.1 in d:\\all-software-installers\\anaconda\\lib\\site-packages (from requests->webdriver-manager) (1.25.9)\n",
      " \n"
     ]
    },
    {
     "name": "stderr",
     "output_type": "stream",
     "text": [
      "[WDM] - Driver [C:\\Users\\kaushik.mesala\\.wdm\\drivers\\chromedriver\\win32\\86.0.4240.22\\chromedriver.exe] found in cache\n"
     ]
    },
    {
     "ename": "AttributeError",
     "evalue": "'NoneType' object has no attribute 'send_keys'",
     "output_type": "error",
     "traceback": [
      "\u001b[1;31m---------------------------------------------------------------------------\u001b[0m",
      "\u001b[1;31mAttributeError\u001b[0m                            Traceback (most recent call last)",
      "\u001b[1;32m<ipython-input-18-bd074cc010cb>\u001b[0m in \u001b[0;36m<module>\u001b[1;34m\u001b[0m\n\u001b[0;32m     22\u001b[0m \u001b[1;33m\u001b[0m\u001b[0m\n\u001b[0;32m     23\u001b[0m \u001b[0mdriver\u001b[0m\u001b[1;33m.\u001b[0m\u001b[0mimplicitly_wait\u001b[0m\u001b[1;33m(\u001b[0m\u001b[1;36m60\u001b[0m\u001b[1;33m)\u001b[0m\u001b[1;33m\u001b[0m\u001b[1;33m\u001b[0m\u001b[0m\n\u001b[1;32m---> 24\u001b[1;33m \u001b[0mdriver\u001b[0m\u001b[1;33m.\u001b[0m\u001b[0mfind_element_by_id\u001b[0m\u001b[1;33m(\u001b[0m\u001b[1;34m'identifierId'\u001b[0m\u001b[1;33m)\u001b[0m\u001b[1;33m.\u001b[0m\u001b[0msend_keys\u001b[0m\u001b[1;33m(\u001b[0m\u001b[0mgmail_username\u001b[0m\u001b[1;33m)\u001b[0m\u001b[1;33m\u001b[0m\u001b[1;33m\u001b[0m\u001b[0m\n\u001b[0m\u001b[0;32m     25\u001b[0m \u001b[0mdriver\u001b[0m\u001b[1;33m.\u001b[0m\u001b[0mfind_element_by_id\u001b[0m\u001b[1;33m(\u001b[0m\u001b[1;34m'identifierNext'\u001b[0m\u001b[1;33m)\u001b[0m\u001b[1;33m.\u001b[0m\u001b[0mclick\u001b[0m\u001b[1;33m(\u001b[0m\u001b[1;33m)\u001b[0m\u001b[1;33m\u001b[0m\u001b[1;33m\u001b[0m\u001b[0m\n",
      "\u001b[1;31mAttributeError\u001b[0m: 'NoneType' object has no attribute 'send_keys'"
     ]
    }
   ],
   "source": [
    "\n",
    "from selenium import webdriver\n",
    "\n",
    "url = 'https://www.gmail.com'\n",
    "chrome_driver_location = '/Users/me/Desktop/gmail account login/utilities/chromedriver'\n",
    "gmail_username = 'sweedot@gmail.com'\n",
    "gmail_password = 'Kaushik@78'\n",
    "\n",
    "phoneNum = '919041244269'\n",
    "text = 'abcdefghijklm'\n",
    "\n",
    "url = 'https://web.whatsapp.com/send?phone='+phoneNum+'&text='+text\n",
    "\n",
    "try:\n",
    "    driver= webdriver.Chrome()\n",
    "except:\n",
    "    print('installing webdriver')\n",
    "    !pip install webdriver-manager\n",
    "    from webdriver_manager.chrome import ChromeDriverManager\n",
    "    driver = webdriver.Chrome(ChromeDriverManager().install())\n",
    "    \n",
    "driver.get(url)\n",
    "\n",
    "driver.implicitly_wait(60)\n",
    "driver.find_element_by_id('identifierId').send_keys(gmail_username)\n",
    "driver.find_element_by_id('identifierNext').click()\n"
   ]
  },
  {
   "cell_type": "code",
   "execution_count": null,
   "metadata": {},
   "outputs": [],
   "source": []
  },
  {
   "cell_type": "code",
   "execution_count": 22,
   "metadata": {},
   "outputs": [],
   "source": [
    "import webbrowser, pyautogui\n",
    "\n",
    "phoneNum = '919041244269'\n",
    "text = 'abcdefghijklm'\n",
    "\n",
    "# MacOS\n",
    "#chrome_path = 'open -a /Applications/Google\\ Chrome.app %s'\n",
    "\n",
    "# Windows\n",
    "chrome_path = 'C:/Program Files/Google/Chrome/Application/chrome.exe %s'\n",
    "\n",
    "# Linux\n",
    "# chrome_path = '/usr/bin/google-chrome %s'\n",
    "\n",
    "def sendWhatsApp(phoneNum , text):\n",
    "    url = 'https://web.whatsapp.com/send?phone='+phoneNum+'&text='+text\n",
    "\n",
    "    t = webbrowser.get(chrome_path).open(url)\n",
    "    import time\n",
    "    time.sleep(15)   # Delays for 5 seconds.\n",
    "\n",
    "#     pyautogui.press('enter')\n",
    "#     pyautogui.keyDown('ctrl')\n",
    "#     time.sleep(5)  \n",
    "#     pyautogui.press('w')\n",
    "\n",
    "sendWhatsApp(phoneNum , text)\n"
   ]
  },
  {
   "cell_type": "code",
   "execution_count": 39,
   "metadata": {},
   "outputs": [],
   "source": [
    "# email link \n",
    "\n",
    "# https://www.youtube.com/redirect?v=JRCJ6RtE3xU&event=video_description&redir_token=QUFFLUhqbno2c2tTdExRbnFQNnhEbmlILS00VEJFRTJBZ3xBQ3Jtc0tuaEFralhWOU05YUpiWjlidk5IVzR0UlRicmFEMWxBT0E4alUyTjU0b3htT1ZUQllpeExUQXMwaUI0UXY3dFl3MDBIbFF5WU1VZWRMVXRFQVB1bmc5cHhvNi1YTkN1WTgtZ0JxRUdMLW5jUUZDV3J0SQ%3D%3D&q=https%3A%2F%2Fmyaccount.google.com%2Flesssecureapps\n",
    "\n",
    "import re\n",
    "import os,smtplib\n",
    "import imghdr\n",
    "from email.message import EmailMessage\n",
    "\n",
    "EMAIL_ADDRESS = 'sweedot@gmail.com'\n",
    "EMAIL_PASSWORD = 'Kaushik@78'\n",
    "filePath = 'C:\\\\Users\\\\kaushik.mesala\\\\Desktop\\\\temp'\n",
    "fileName = 'python.pdf'\n",
    "\n",
    "body = '''\n",
    "Dear \n",
    "\n",
    "Thank you,\n",
    "Kaushik\n",
    "'''\n",
    "\n",
    "def sendEmail(subject , body , fromAddress , toAddress , filePath , fileName):\n",
    "\n",
    "    filePath = filePath +\"\\\\\"+fileName\n",
    "    filePath = re.sub(r\"\\\\\",\"//\",filePath )\n",
    "    \n",
    "    msg = EmailMessage()\n",
    "    msg['Subject'] = subject\n",
    "    msg['From'] = EMAIL_ADDRESS\n",
    "    msg['To'] = '3797kaushik@gmail.com'\n",
    "    msg.set_content(body)\n",
    "\n",
    "    with open(filePath,'rb') as f:\n",
    "        file_data = f.read()\n",
    "\n",
    "    msg.add_attachment(file_data ,maintype='application' , subtype='octet-stream', filename = fileName)\n",
    "\n",
    "    with smtplib.SMTP_SSL('smtp.gmail.com' ,  465) as smtp:\n",
    "\n",
    "        smtp.login(EMAIL_ADDRESS , EMAIL_PASSWORD)\n",
    "\n",
    "        smtp.send_message(\n",
    "        print('mail sent')"
   ]
  },
  {
   "cell_type": "code",
   "execution_count": 43,
   "metadata": {},
   "outputs": [
    {
     "data": {
      "text/plain": [
       "'C://Users//kaushik.mesala//Desktop//temp//python.pdf'"
      ]
     },
     "execution_count": 43,
     "metadata": {},
     "output_type": "execute_result"
    }
   ],
   "source": [
    "\n",
    "    filePath = filePath +\"\\\\\"+fileName\n",
    "    re.sub(r\"\\\\\",\"//\",filePath )"
   ]
  },
  {
   "cell_type": "code",
   "execution_count": 46,
   "metadata": {},
   "outputs": [
    {
     "name": "stdout",
     "output_type": "stream",
     "text": [
      "installing webdriver\n"
     ]
    },
    {
     "name": "stderr",
     "output_type": "stream",
     "text": [
      "[WDM] - Current google-chrome version is 86.0.4240\n",
      "[WDM] - Get LATEST driver version for 86.0.4240\n"
     ]
    },
    {
     "name": "stdout",
     "output_type": "stream",
     "text": [
      "Requirement already satisfied: webdriver-manager in d:\\all-software-installers\\anaconda\\lib\\site-packages (3.2.2)\n",
      "Requirement already satisfied: configparser in d:\\all-software-installers\\anaconda\\lib\\site-packages (from webdriver-manager) (5.0.1)\n",
      "Requirement already satisfied: requests in d:\\all-software-installers\\anaconda\\lib\\site-packages (from webdriver-manager) (2.24.0)\n",
      "Requirement already satisfied: crayons in d:\\all-software-installers\\anaconda\\lib\\site-packages (from webdriver-manager) (0.4.0)\n",
      "Requirement already satisfied: urllib3!=1.25.0,!=1.25.1,<1.26,>=1.21.1 in d:\\all-software-installers\\anaconda\\lib\\site-packages (from requests->webdriver-manager) (1.25.9)\n",
      "Requirement already satisfied: idna<3,>=2.5 in d:\\all-software-installers\\anaconda\\lib\\site-packages (from requests->webdriver-manager) (2.10)\n",
      "Requirement already satisfied: certifi>=2017.4.17 in d:\\all-software-installers\\anaconda\\lib\\site-packages (from requests->webdriver-manager) (2020.6.20)\n",
      "Requirement already satisfied: chardet<4,>=3.0.2 in d:\\all-software-installers\\anaconda\\lib\\site-packages (from requests->webdriver-manager) (3.0.4)\n",
      "Requirement already satisfied: colorama in d:\\all-software-installers\\anaconda\\lib\\site-packages (from crayons->webdriver-manager) (0.4.3)\n",
      " \n"
     ]
    },
    {
     "name": "stderr",
     "output_type": "stream",
     "text": [
      "[WDM] - Driver [C:\\Users\\kaushik.mesala\\.wdm\\drivers\\chromedriver\\win32\\86.0.4240.22\\chromedriver.exe] found in cache\n"
     ]
    },
    {
     "name": "stdout",
     "output_type": "stream",
     "text": [
      "confirm :5\n"
     ]
    },
    {
     "ename": "NoSuchElementException",
     "evalue": "Message: no such element: Unable to locate element: {\"method\":\"xpath\",\"selector\":\"//*[@id=\"main\"]/footer/div[1]/div[1]/div[2]\"}\n  (Session info: chrome=86.0.4240.111)\n",
     "output_type": "error",
     "traceback": [
      "\u001b[1;31m---------------------------------------------------------------------------\u001b[0m",
      "\u001b[1;31mNoSuchElementException\u001b[0m                    Traceback (most recent call last)",
      "\u001b[1;32m<ipython-input-46-90e79bffb7ae>\u001b[0m in \u001b[0;36m<module>\u001b[1;34m\u001b[0m\n\u001b[0;32m     22\u001b[0m \u001b[0mfilePath\u001b[0m \u001b[1;33m=\u001b[0m \u001b[0mre\u001b[0m\u001b[1;33m.\u001b[0m\u001b[0msub\u001b[0m\u001b[1;33m(\u001b[0m\u001b[1;34mr\"\\\\\"\u001b[0m\u001b[1;33m,\u001b[0m\u001b[1;34m\"//\"\u001b[0m\u001b[1;33m,\u001b[0m\u001b[0mfilePath\u001b[0m \u001b[1;33m)\u001b[0m\u001b[1;33m\u001b[0m\u001b[1;33m\u001b[0m\u001b[0m\n\u001b[0;32m     23\u001b[0m \u001b[1;33m\u001b[0m\u001b[0m\n\u001b[1;32m---> 24\u001b[1;33m \u001b[0mattachment_box\u001b[0m \u001b[1;33m=\u001b[0m \u001b[0mdriver\u001b[0m\u001b[1;33m.\u001b[0m\u001b[0mfind_element_by_xpath\u001b[0m\u001b[1;33m(\u001b[0m\u001b[1;34m'//*[@id=\"main\"]/footer/div[1]/div[1]/div[2]'\u001b[0m\u001b[1;33m)\u001b[0m\u001b[1;33m\u001b[0m\u001b[1;33m\u001b[0m\u001b[0m\n\u001b[0m\u001b[0;32m     25\u001b[0m \u001b[0mattachment_box\u001b[0m\u001b[1;33m.\u001b[0m\u001b[0mclick\u001b[0m\u001b[1;33m(\u001b[0m\u001b[1;33m)\u001b[0m\u001b[1;33m\u001b[0m\u001b[1;33m\u001b[0m\u001b[0m\n\u001b[0;32m     26\u001b[0m \u001b[1;33m\u001b[0m\u001b[0m\n",
      "\u001b[1;32mD:\\all-Software-Installers\\Anaconda\\lib\\site-packages\\selenium\\webdriver\\remote\\webdriver.py\u001b[0m in \u001b[0;36mfind_element_by_xpath\u001b[1;34m(self, xpath)\u001b[0m\n\u001b[0;32m    392\u001b[0m             \u001b[0melement\u001b[0m \u001b[1;33m=\u001b[0m \u001b[0mdriver\u001b[0m\u001b[1;33m.\u001b[0m\u001b[0mfind_element_by_xpath\u001b[0m\u001b[1;33m(\u001b[0m\u001b[1;34m'//div/td[1]'\u001b[0m\u001b[1;33m)\u001b[0m\u001b[1;33m\u001b[0m\u001b[1;33m\u001b[0m\u001b[0m\n\u001b[0;32m    393\u001b[0m         \"\"\"\n\u001b[1;32m--> 394\u001b[1;33m         \u001b[1;32mreturn\u001b[0m \u001b[0mself\u001b[0m\u001b[1;33m.\u001b[0m\u001b[0mfind_element\u001b[0m\u001b[1;33m(\u001b[0m\u001b[0mby\u001b[0m\u001b[1;33m=\u001b[0m\u001b[0mBy\u001b[0m\u001b[1;33m.\u001b[0m\u001b[0mXPATH\u001b[0m\u001b[1;33m,\u001b[0m \u001b[0mvalue\u001b[0m\u001b[1;33m=\u001b[0m\u001b[0mxpath\u001b[0m\u001b[1;33m)\u001b[0m\u001b[1;33m\u001b[0m\u001b[1;33m\u001b[0m\u001b[0m\n\u001b[0m\u001b[0;32m    395\u001b[0m \u001b[1;33m\u001b[0m\u001b[0m\n\u001b[0;32m    396\u001b[0m     \u001b[1;32mdef\u001b[0m \u001b[0mfind_elements_by_xpath\u001b[0m\u001b[1;33m(\u001b[0m\u001b[0mself\u001b[0m\u001b[1;33m,\u001b[0m \u001b[0mxpath\u001b[0m\u001b[1;33m)\u001b[0m\u001b[1;33m:\u001b[0m\u001b[1;33m\u001b[0m\u001b[1;33m\u001b[0m\u001b[0m\n",
      "\u001b[1;32mD:\\all-Software-Installers\\Anaconda\\lib\\site-packages\\selenium\\webdriver\\remote\\webdriver.py\u001b[0m in \u001b[0;36mfind_element\u001b[1;34m(self, by, value)\u001b[0m\n\u001b[0;32m    974\u001b[0m                 \u001b[0mby\u001b[0m \u001b[1;33m=\u001b[0m \u001b[0mBy\u001b[0m\u001b[1;33m.\u001b[0m\u001b[0mCSS_SELECTOR\u001b[0m\u001b[1;33m\u001b[0m\u001b[1;33m\u001b[0m\u001b[0m\n\u001b[0;32m    975\u001b[0m                 \u001b[0mvalue\u001b[0m \u001b[1;33m=\u001b[0m \u001b[1;34m'[name=\"%s\"]'\u001b[0m \u001b[1;33m%\u001b[0m \u001b[0mvalue\u001b[0m\u001b[1;33m\u001b[0m\u001b[1;33m\u001b[0m\u001b[0m\n\u001b[1;32m--> 976\u001b[1;33m         return self.execute(Command.FIND_ELEMENT, {\n\u001b[0m\u001b[0;32m    977\u001b[0m             \u001b[1;34m'using'\u001b[0m\u001b[1;33m:\u001b[0m \u001b[0mby\u001b[0m\u001b[1;33m,\u001b[0m\u001b[1;33m\u001b[0m\u001b[1;33m\u001b[0m\u001b[0m\n\u001b[0;32m    978\u001b[0m             'value': value})['value']\n",
      "\u001b[1;32mD:\\all-Software-Installers\\Anaconda\\lib\\site-packages\\selenium\\webdriver\\remote\\webdriver.py\u001b[0m in \u001b[0;36mexecute\u001b[1;34m(self, driver_command, params)\u001b[0m\n\u001b[0;32m    319\u001b[0m         \u001b[0mresponse\u001b[0m \u001b[1;33m=\u001b[0m \u001b[0mself\u001b[0m\u001b[1;33m.\u001b[0m\u001b[0mcommand_executor\u001b[0m\u001b[1;33m.\u001b[0m\u001b[0mexecute\u001b[0m\u001b[1;33m(\u001b[0m\u001b[0mdriver_command\u001b[0m\u001b[1;33m,\u001b[0m \u001b[0mparams\u001b[0m\u001b[1;33m)\u001b[0m\u001b[1;33m\u001b[0m\u001b[1;33m\u001b[0m\u001b[0m\n\u001b[0;32m    320\u001b[0m         \u001b[1;32mif\u001b[0m \u001b[0mresponse\u001b[0m\u001b[1;33m:\u001b[0m\u001b[1;33m\u001b[0m\u001b[1;33m\u001b[0m\u001b[0m\n\u001b[1;32m--> 321\u001b[1;33m             \u001b[0mself\u001b[0m\u001b[1;33m.\u001b[0m\u001b[0merror_handler\u001b[0m\u001b[1;33m.\u001b[0m\u001b[0mcheck_response\u001b[0m\u001b[1;33m(\u001b[0m\u001b[0mresponse\u001b[0m\u001b[1;33m)\u001b[0m\u001b[1;33m\u001b[0m\u001b[1;33m\u001b[0m\u001b[0m\n\u001b[0m\u001b[0;32m    322\u001b[0m             response['value'] = self._unwrap_value(\n\u001b[0;32m    323\u001b[0m                 response.get('value', None))\n",
      "\u001b[1;32mD:\\all-Software-Installers\\Anaconda\\lib\\site-packages\\selenium\\webdriver\\remote\\errorhandler.py\u001b[0m in \u001b[0;36mcheck_response\u001b[1;34m(self, response)\u001b[0m\n\u001b[0;32m    240\u001b[0m                 \u001b[0malert_text\u001b[0m \u001b[1;33m=\u001b[0m \u001b[0mvalue\u001b[0m\u001b[1;33m[\u001b[0m\u001b[1;34m'alert'\u001b[0m\u001b[1;33m]\u001b[0m\u001b[1;33m.\u001b[0m\u001b[0mget\u001b[0m\u001b[1;33m(\u001b[0m\u001b[1;34m'text'\u001b[0m\u001b[1;33m)\u001b[0m\u001b[1;33m\u001b[0m\u001b[1;33m\u001b[0m\u001b[0m\n\u001b[0;32m    241\u001b[0m             \u001b[1;32mraise\u001b[0m \u001b[0mexception_class\u001b[0m\u001b[1;33m(\u001b[0m\u001b[0mmessage\u001b[0m\u001b[1;33m,\u001b[0m \u001b[0mscreen\u001b[0m\u001b[1;33m,\u001b[0m \u001b[0mstacktrace\u001b[0m\u001b[1;33m,\u001b[0m \u001b[0malert_text\u001b[0m\u001b[1;33m)\u001b[0m\u001b[1;33m\u001b[0m\u001b[1;33m\u001b[0m\u001b[0m\n\u001b[1;32m--> 242\u001b[1;33m         \u001b[1;32mraise\u001b[0m \u001b[0mexception_class\u001b[0m\u001b[1;33m(\u001b[0m\u001b[0mmessage\u001b[0m\u001b[1;33m,\u001b[0m \u001b[0mscreen\u001b[0m\u001b[1;33m,\u001b[0m \u001b[0mstacktrace\u001b[0m\u001b[1;33m)\u001b[0m\u001b[1;33m\u001b[0m\u001b[1;33m\u001b[0m\u001b[0m\n\u001b[0m\u001b[0;32m    243\u001b[0m \u001b[1;33m\u001b[0m\u001b[0m\n\u001b[0;32m    244\u001b[0m     \u001b[1;32mdef\u001b[0m \u001b[0m_value_or_default\u001b[0m\u001b[1;33m(\u001b[0m\u001b[0mself\u001b[0m\u001b[1;33m,\u001b[0m \u001b[0mobj\u001b[0m\u001b[1;33m,\u001b[0m \u001b[0mkey\u001b[0m\u001b[1;33m,\u001b[0m \u001b[0mdefault\u001b[0m\u001b[1;33m)\u001b[0m\u001b[1;33m:\u001b[0m\u001b[1;33m\u001b[0m\u001b[1;33m\u001b[0m\u001b[0m\n",
      "\u001b[1;31mNoSuchElementException\u001b[0m: Message: no such element: Unable to locate element: {\"method\":\"xpath\",\"selector\":\"//*[@id=\"main\"]/footer/div[1]/div[1]/div[2]\"}\n  (Session info: chrome=86.0.4240.111)\n"
     ]
    }
   ],
   "source": [
    "from selenium import webdriver\n",
    "from time import sleep\n",
    "\n",
    "try:\n",
    "    driver= webdriver.Chrome()\n",
    "except:\n",
    "    print('installing webdriver')\n",
    "    !pip install webdriver-manager\n",
    "    from webdriver_manager.chrome import ChromeDriverManager\n",
    "    driver = webdriver.Chrome(ChromeDriverManager().install())\n",
    "\n",
    "url = 'https://web.whatsapp.com/'\n",
    "driver.get(url)\n",
    "\n",
    "input('confirm :')\n",
    "\n",
    "url = 'https://web.whatsapp.com/send?phone='+phoneNum+'&text='+text    \n",
    "\n",
    "driver.get(url)\n",
    "\n",
    "filePath = filePath +\"\\\\\"+fileName\n",
    "filePath = re.sub(r\"\\\\\",\"//\",filePath )\n",
    "\n",
    "attachment_box = driver.find_element_by_xpath('//*[@id=\"main\"]/footer/div[1]/div[1]/div[2]')\n",
    "attachment_box.click()\n",
    "\n",
    "image_box = driver.find_element_by_xpath(\n",
    "    '//input[@accept=\"image/*,video/mp4,video/3gpp,video/quicktime\"]')\n",
    "image_box.send_keys(filepath)\n",
    "\n",
    "sleep(3)\n",
    "\n",
    "send_button = driver.find_element_by_xpath('//span[@data-icon=\"send-light\"]')\n",
    "send_button.click()"
   ]
  },
  {
   "cell_type": "code",
   "execution_count": 21,
   "metadata": {},
   "outputs": [
    {
     "data": {
      "text/plain": [
       "'C:\\\\Program Files (x86)\\\\Java\\\\jdk1.8.0_271\\\\bin;C:\\\\Windows\\\\system32;C:\\\\Windows;C:\\\\Windows\\\\System32\\\\Wbem;C:\\\\Windows\\\\System32\\\\WindowsPowerShell\\\\v1.0\\\\;C:\\\\Windows\\\\System32\\\\OpenSSH\\\\;C:\\\\Program Files (x86)\\\\Pulse Secure\\\\VC142.CRT\\\\X64\\\\;C:\\\\Program Files (x86)\\\\Pulse Secure\\\\VC142.CRT\\\\X86\\\\;C:\\\\Program Files (x86)\\\\Java\\\\jre1.8.0_271\\\\bin;C:\\\\Program Files\\\\Git\\\\cmd;C:\\\\Program Files\\\\TortoiseGit\\\\bin;D:\\\\all-Software-Installers\\\\Anaconda;D:\\\\all-Software-Installers\\\\Anaconda\\\\Library\\\\mingw-w64\\\\bin;D:\\\\all-Software-Installers\\\\Anaconda\\\\Library\\\\usr\\\\bin;D:\\\\all-Software-Installers\\\\Anaconda\\\\Library\\\\bin;D:\\\\all-Software-Installers\\\\Anaconda\\\\Scripts;C:\\\\Users\\\\kaushik.mesala\\\\AppData\\\\Local\\\\Programs\\\\Python\\\\Python39\\\\Scripts\\\\;C:\\\\Users\\\\kaushik.mesala\\\\AppData\\\\Local\\\\Programs\\\\Python\\\\Python39\\\\;C:\\\\Users\\\\kaushik.mesala\\\\AppData\\\\Local\\\\Microsoft\\\\WindowsApps;C:\\\\Program Files (x86)\\\\Java\\\\jre1.8.0_271\\\\bin;C:\\\\Program Files (x86)\\\\Java\\\\jdk1.8.0_271\\\\bin;C:\\\\Users\\\\kaushik.mesala\\\\AppData\\\\Local\\\\Programs\\\\Microsoft VS Code\\\\bin'"
      ]
     },
     "execution_count": 21,
     "metadata": {},
     "output_type": "execute_result"
    }
   ],
   "source": [
    "# reading environment variables\n",
    "import os\n",
    "\n",
    "os.environ.get('PATH')"
   ]
  },
  {
   "cell_type": "code",
   "execution_count": null,
   "metadata": {},
   "outputs": [],
   "source": [
    "# email link \n",
    "\n",
    "# https://www.youtube.com/redirect?v=JRCJ6RtE3xU&event=video_description&redir_token=QUFFLUhqbno2c2tTdExRbnFQNnhEbmlILS00VEJFRTJBZ3xBQ3Jtc0tuaEFralhWOU05YUpiWjlidk5IVzR0UlRicmFEMWxBT0E4alUyTjU0b3htT1ZUQllpeExUQXMwaUI0UXY3dFl3MDBIbFF5WU1VZWRMVXRFQVB1bmc5cHhvNi1YTkN1WTgtZ0JxRUdMLW5jUUZDV3J0SQ%3D%3D&q=https%3A%2F%2Fmyaccount.google.com%2Flesssecureapps\n",
    "# https://www.youtube.com/redirect?v=JRCJ6RtE3xU&event=video_description&redir_token=QUFFLUhqa2VFLW9mb1dCU2F0bXRRY3p5QU9VUmpHZkxXUXxBQ3Jtc0trN0hWNkc2SWw1b0FRSkVkdm1kYTRSS0d0b2VzeC02dmF0Ui00c2ZhaGFSbFgzZVlSNVE3WXN1N1F4ZXVvZ25vVDBQOTdvTWxjcmRVeUZ0aE83M3daeHh3alM1bmhNd1UtRkNnNDEwLTN6Y3l3VmdjMA%3D%3D&q=https%3A%2F%2Fmyaccount.google.com%2Fapppasswords\n",
    "\n",
    "import os,smtplib\n",
    "import imghdr\n",
    "from email.message import EmailMessage\n",
    "\n",
    "EMAIL_ADDRESS = 'sweedot@gmail.com'\n",
    "EMAIL_PASSWORD = 'Kaushik@78'\n",
    "\n",
    "with smtplib.SMTP('smtp.gmail.com' ,  587) as smtp:\n",
    "    \n",
    "    smtp.ehlo()\n",
    "    smtp.starttls()\n",
    "    smtp.ehlo()\n",
    "    \n",
    "    smtp.login(EMAIL_ADDRESS , EMAIL_PASSWORD)\n",
    "    \n",
    "    subject =' Dinner ?'\n",
    "    body = ' hello'\n",
    "    \n",
    "    msg = f'Subject:{subject}\\n\\n{body}'\n",
    "    \n",
    "    SENDER=EMAIL_ADDRESS\n",
    "    RECIEVER= '3797kaushik@gmail.com'\n",
    "    \n",
    "    smtp.sendmail(SENDER , RECIEVER , msg)\n",
    "    print('mail sent')"
   ]
  },
  {
   "cell_type": "code",
   "execution_count": 55,
   "metadata": {},
   "outputs": [
    {
     "name": "stdout",
     "output_type": "stream",
     "text": [
      "installing webdriver\n"
     ]
    },
    {
     "name": "stderr",
     "output_type": "stream",
     "text": [
      "[WDM] - Current google-chrome version is 86.0.4240\n",
      "[WDM] - Get LATEST driver version for 86.0.4240\n"
     ]
    },
    {
     "name": "stdout",
     "output_type": "stream",
     "text": [
      "Requirement already satisfied: webdriver-manager in d:\\all-software-installers\\anaconda\\lib\\site-packages (3.2.2)\n",
      "Requirement already satisfied: configparser in d:\\all-software-installers\\anaconda\\lib\\site-packages (from webdriver-manager) (5.0.1)\n",
      "Requirement already satisfied: crayons in d:\\all-software-installers\\anaconda\\lib\\site-packages (from webdriver-manager) (0.4.0)\n",
      "Requirement already satisfied: requests in d:\\all-software-installers\\anaconda\\lib\\site-packages (from webdriver-manager) (2.24.0)\n",
      "Requirement already satisfied: colorama in d:\\all-software-installers\\anaconda\\lib\\site-packages (from crayons->webdriver-manager) (0.4.3)\n",
      "Requirement already satisfied: urllib3!=1.25.0,!=1.25.1,<1.26,>=1.21.1 in d:\\all-software-installers\\anaconda\\lib\\site-packages (from requests->webdriver-manager) (1.25.9)\n",
      "Requirement already satisfied: chardet<4,>=3.0.2 in d:\\all-software-installers\\anaconda\\lib\\site-packages (from requests->webdriver-manager) (3.0.4)\n",
      "Requirement already satisfied: certifi>=2017.4.17 in d:\\all-software-installers\\anaconda\\lib\\site-packages (from requests->webdriver-manager) (2020.6.20)\n",
      "Requirement already satisfied: idna<3,>=2.5 in d:\\all-software-installers\\anaconda\\lib\\site-packages (from requests->webdriver-manager) (2.10)\n",
      " \n"
     ]
    },
    {
     "name": "stderr",
     "output_type": "stream",
     "text": [
      "[WDM] - Driver [C:\\Users\\kaushik.mesala\\.wdm\\drivers\\chromedriver\\win32\\86.0.4240.22\\chromedriver.exe] found in cache\n"
     ]
    },
    {
     "name": "stdout",
     "output_type": "stream",
     "text": [
      "Enter the name of user or group : alka_kony\n",
      "Enter your filepath (images/video): C:\\Users\\kaushik.mesala\\Desktop\\temp\\python.pdf\n",
      "Enter anything after scanning QR code\n"
     ]
    },
    {
     "ename": "NoSuchElementException",
     "evalue": "Message: no such element: Unable to locate element: {\"method\":\"xpath\",\"selector\":\"//span[@title = \"alka_kony\"]\"}\n  (Session info: chrome=86.0.4240.111)\n",
     "output_type": "error",
     "traceback": [
      "\u001b[1;31m---------------------------------------------------------------------------\u001b[0m",
      "\u001b[1;31mNoSuchElementException\u001b[0m                    Traceback (most recent call last)",
      "\u001b[1;32m<ipython-input-55-6dac4787b043>\u001b[0m in \u001b[0;36m<module>\u001b[1;34m\u001b[0m\n\u001b[0;32m     18\u001b[0m \u001b[0minput\u001b[0m\u001b[1;33m(\u001b[0m\u001b[1;34m'Enter anything after scanning QR code'\u001b[0m\u001b[1;33m)\u001b[0m\u001b[1;33m\u001b[0m\u001b[1;33m\u001b[0m\u001b[0m\n\u001b[0;32m     19\u001b[0m \u001b[1;33m\u001b[0m\u001b[0m\n\u001b[1;32m---> 20\u001b[1;33m \u001b[0muser\u001b[0m \u001b[1;33m=\u001b[0m \u001b[0mdriver\u001b[0m\u001b[1;33m.\u001b[0m\u001b[0mfind_element_by_xpath\u001b[0m\u001b[1;33m(\u001b[0m\u001b[1;34m'//span[@title = \"{}\"]'\u001b[0m\u001b[1;33m.\u001b[0m\u001b[0mformat\u001b[0m\u001b[1;33m(\u001b[0m\u001b[0mname\u001b[0m\u001b[1;33m)\u001b[0m\u001b[1;33m)\u001b[0m\u001b[1;33m\u001b[0m\u001b[1;33m\u001b[0m\u001b[0m\n\u001b[0m\u001b[0;32m     21\u001b[0m \u001b[0muser\u001b[0m\u001b[1;33m.\u001b[0m\u001b[0mclick\u001b[0m\u001b[1;33m(\u001b[0m\u001b[1;33m)\u001b[0m\u001b[1;33m\u001b[0m\u001b[1;33m\u001b[0m\u001b[0m\n\u001b[0;32m     22\u001b[0m \u001b[1;33m\u001b[0m\u001b[0m\n",
      "\u001b[1;32mD:\\all-Software-Installers\\Anaconda\\lib\\site-packages\\selenium\\webdriver\\remote\\webdriver.py\u001b[0m in \u001b[0;36mfind_element_by_xpath\u001b[1;34m(self, xpath)\u001b[0m\n\u001b[0;32m    392\u001b[0m             \u001b[0melement\u001b[0m \u001b[1;33m=\u001b[0m \u001b[0mdriver\u001b[0m\u001b[1;33m.\u001b[0m\u001b[0mfind_element_by_xpath\u001b[0m\u001b[1;33m(\u001b[0m\u001b[1;34m'//div/td[1]'\u001b[0m\u001b[1;33m)\u001b[0m\u001b[1;33m\u001b[0m\u001b[1;33m\u001b[0m\u001b[0m\n\u001b[0;32m    393\u001b[0m         \"\"\"\n\u001b[1;32m--> 394\u001b[1;33m         \u001b[1;32mreturn\u001b[0m \u001b[0mself\u001b[0m\u001b[1;33m.\u001b[0m\u001b[0mfind_element\u001b[0m\u001b[1;33m(\u001b[0m\u001b[0mby\u001b[0m\u001b[1;33m=\u001b[0m\u001b[0mBy\u001b[0m\u001b[1;33m.\u001b[0m\u001b[0mXPATH\u001b[0m\u001b[1;33m,\u001b[0m \u001b[0mvalue\u001b[0m\u001b[1;33m=\u001b[0m\u001b[0mxpath\u001b[0m\u001b[1;33m)\u001b[0m\u001b[1;33m\u001b[0m\u001b[1;33m\u001b[0m\u001b[0m\n\u001b[0m\u001b[0;32m    395\u001b[0m \u001b[1;33m\u001b[0m\u001b[0m\n\u001b[0;32m    396\u001b[0m     \u001b[1;32mdef\u001b[0m \u001b[0mfind_elements_by_xpath\u001b[0m\u001b[1;33m(\u001b[0m\u001b[0mself\u001b[0m\u001b[1;33m,\u001b[0m \u001b[0mxpath\u001b[0m\u001b[1;33m)\u001b[0m\u001b[1;33m:\u001b[0m\u001b[1;33m\u001b[0m\u001b[1;33m\u001b[0m\u001b[0m\n",
      "\u001b[1;32mD:\\all-Software-Installers\\Anaconda\\lib\\site-packages\\selenium\\webdriver\\remote\\webdriver.py\u001b[0m in \u001b[0;36mfind_element\u001b[1;34m(self, by, value)\u001b[0m\n\u001b[0;32m    974\u001b[0m                 \u001b[0mby\u001b[0m \u001b[1;33m=\u001b[0m \u001b[0mBy\u001b[0m\u001b[1;33m.\u001b[0m\u001b[0mCSS_SELECTOR\u001b[0m\u001b[1;33m\u001b[0m\u001b[1;33m\u001b[0m\u001b[0m\n\u001b[0;32m    975\u001b[0m                 \u001b[0mvalue\u001b[0m \u001b[1;33m=\u001b[0m \u001b[1;34m'[name=\"%s\"]'\u001b[0m \u001b[1;33m%\u001b[0m \u001b[0mvalue\u001b[0m\u001b[1;33m\u001b[0m\u001b[1;33m\u001b[0m\u001b[0m\n\u001b[1;32m--> 976\u001b[1;33m         return self.execute(Command.FIND_ELEMENT, {\n\u001b[0m\u001b[0;32m    977\u001b[0m             \u001b[1;34m'using'\u001b[0m\u001b[1;33m:\u001b[0m \u001b[0mby\u001b[0m\u001b[1;33m,\u001b[0m\u001b[1;33m\u001b[0m\u001b[1;33m\u001b[0m\u001b[0m\n\u001b[0;32m    978\u001b[0m             'value': value})['value']\n",
      "\u001b[1;32mD:\\all-Software-Installers\\Anaconda\\lib\\site-packages\\selenium\\webdriver\\remote\\webdriver.py\u001b[0m in \u001b[0;36mexecute\u001b[1;34m(self, driver_command, params)\u001b[0m\n\u001b[0;32m    319\u001b[0m         \u001b[0mresponse\u001b[0m \u001b[1;33m=\u001b[0m \u001b[0mself\u001b[0m\u001b[1;33m.\u001b[0m\u001b[0mcommand_executor\u001b[0m\u001b[1;33m.\u001b[0m\u001b[0mexecute\u001b[0m\u001b[1;33m(\u001b[0m\u001b[0mdriver_command\u001b[0m\u001b[1;33m,\u001b[0m \u001b[0mparams\u001b[0m\u001b[1;33m)\u001b[0m\u001b[1;33m\u001b[0m\u001b[1;33m\u001b[0m\u001b[0m\n\u001b[0;32m    320\u001b[0m         \u001b[1;32mif\u001b[0m \u001b[0mresponse\u001b[0m\u001b[1;33m:\u001b[0m\u001b[1;33m\u001b[0m\u001b[1;33m\u001b[0m\u001b[0m\n\u001b[1;32m--> 321\u001b[1;33m             \u001b[0mself\u001b[0m\u001b[1;33m.\u001b[0m\u001b[0merror_handler\u001b[0m\u001b[1;33m.\u001b[0m\u001b[0mcheck_response\u001b[0m\u001b[1;33m(\u001b[0m\u001b[0mresponse\u001b[0m\u001b[1;33m)\u001b[0m\u001b[1;33m\u001b[0m\u001b[1;33m\u001b[0m\u001b[0m\n\u001b[0m\u001b[0;32m    322\u001b[0m             response['value'] = self._unwrap_value(\n\u001b[0;32m    323\u001b[0m                 response.get('value', None))\n",
      "\u001b[1;32mD:\\all-Software-Installers\\Anaconda\\lib\\site-packages\\selenium\\webdriver\\remote\\errorhandler.py\u001b[0m in \u001b[0;36mcheck_response\u001b[1;34m(self, response)\u001b[0m\n\u001b[0;32m    240\u001b[0m                 \u001b[0malert_text\u001b[0m \u001b[1;33m=\u001b[0m \u001b[0mvalue\u001b[0m\u001b[1;33m[\u001b[0m\u001b[1;34m'alert'\u001b[0m\u001b[1;33m]\u001b[0m\u001b[1;33m.\u001b[0m\u001b[0mget\u001b[0m\u001b[1;33m(\u001b[0m\u001b[1;34m'text'\u001b[0m\u001b[1;33m)\u001b[0m\u001b[1;33m\u001b[0m\u001b[1;33m\u001b[0m\u001b[0m\n\u001b[0;32m    241\u001b[0m             \u001b[1;32mraise\u001b[0m \u001b[0mexception_class\u001b[0m\u001b[1;33m(\u001b[0m\u001b[0mmessage\u001b[0m\u001b[1;33m,\u001b[0m \u001b[0mscreen\u001b[0m\u001b[1;33m,\u001b[0m \u001b[0mstacktrace\u001b[0m\u001b[1;33m,\u001b[0m \u001b[0malert_text\u001b[0m\u001b[1;33m)\u001b[0m\u001b[1;33m\u001b[0m\u001b[1;33m\u001b[0m\u001b[0m\n\u001b[1;32m--> 242\u001b[1;33m         \u001b[1;32mraise\u001b[0m \u001b[0mexception_class\u001b[0m\u001b[1;33m(\u001b[0m\u001b[0mmessage\u001b[0m\u001b[1;33m,\u001b[0m \u001b[0mscreen\u001b[0m\u001b[1;33m,\u001b[0m \u001b[0mstacktrace\u001b[0m\u001b[1;33m)\u001b[0m\u001b[1;33m\u001b[0m\u001b[1;33m\u001b[0m\u001b[0m\n\u001b[0m\u001b[0;32m    243\u001b[0m \u001b[1;33m\u001b[0m\u001b[0m\n\u001b[0;32m    244\u001b[0m     \u001b[1;32mdef\u001b[0m \u001b[0m_value_or_default\u001b[0m\u001b[1;33m(\u001b[0m\u001b[0mself\u001b[0m\u001b[1;33m,\u001b[0m \u001b[0mobj\u001b[0m\u001b[1;33m,\u001b[0m \u001b[0mkey\u001b[0m\u001b[1;33m,\u001b[0m \u001b[0mdefault\u001b[0m\u001b[1;33m)\u001b[0m\u001b[1;33m:\u001b[0m\u001b[1;33m\u001b[0m\u001b[1;33m\u001b[0m\u001b[0m\n",
      "\u001b[1;31mNoSuchElementException\u001b[0m: Message: no such element: Unable to locate element: {\"method\":\"xpath\",\"selector\":\"//span[@title = \"alka_kony\"]\"}\n  (Session info: chrome=86.0.4240.111)\n"
     ]
    }
   ],
   "source": [
    "from selenium import webdriver\n",
    "from time import sleep\n",
    "\n",
    "user = driver.find_element_by_xpath('//span[@title = \"{}\"]'.format(name))\n",
    "user.click()\n",
    "\n",
    "attachment_box = driver.find_element_by_xpath('//div[@title = \"Attach\"]')\n",
    "attachment_box.click()\n",
    "\n",
    "image_box = driver.find_element_by_xpath(\n",
    "    '//input[@accept=\"image/*,video/mp4,video/3gpp,video/quicktime\"]')\n",
    "image_box.send_keys(filepath)\n",
    "\n",
    "sleep(3)\n",
    "\n",
    "send_button = driver.find_element_by_xpath('//span[@data-icon=\"send-light\"]')\n",
    "send_button.click()"
   ]
  },
  {
   "cell_type": "code",
   "execution_count": 299,
   "metadata": {},
   "outputs": [
    {
     "name": "stdout",
     "output_type": "stream",
     "text": [
      "Dear  {CompanyName}\n",
      "  \n",
      "  Thank you,\n",
      "  Kaushik \n",
      "installing webdriver\n"
     ]
    },
    {
     "name": "stderr",
     "output_type": "stream",
     "text": [
      "[WDM] - Current google-chrome version is 86.0.4240\n",
      "[WDM] - Get LATEST driver version for 86.0.4240\n"
     ]
    },
    {
     "name": "stdout",
     "output_type": "stream",
     "text": [
      "Requirement already satisfied: webdriver-manager in d:\\all-software-installers\\anaconda\\lib\\site-packages (3.2.2)\n",
      "Requirement already satisfied: requests in d:\\all-software-installers\\anaconda\\lib\\site-packages (from webdriver-manager) (2.24.0)\n",
      "Requirement already satisfied: configparser in d:\\all-software-installers\\anaconda\\lib\\site-packages (from webdriver-manager) (5.0.1)\n",
      "Requirement already satisfied: crayons in d:\\all-software-installers\\anaconda\\lib\\site-packages (from webdriver-manager) (0.4.0)\n",
      "Requirement already satisfied: chardet<4,>=3.0.2 in d:\\all-software-installers\\anaconda\\lib\\site-packages (from requests->webdriver-manager) (3.0.4)\n",
      "Requirement already satisfied: idna<3,>=2.5 in d:\\all-software-installers\\anaconda\\lib\\site-packages (from requests->webdriver-manager) (2.10)\n",
      "Requirement already satisfied: certifi>=2017.4.17 in d:\\all-software-installers\\anaconda\\lib\\site-packages (from requests->webdriver-manager) (2020.6.20)\n",
      "Requirement already satisfied: urllib3!=1.25.0,!=1.25.1,<1.26,>=1.21.1 in d:\\all-software-installers\\anaconda\\lib\\site-packages (from requests->webdriver-manager) (1.25.9)\n",
      "Requirement already satisfied: colorama in d:\\all-software-installers\\anaconda\\lib\\site-packages (from crayons->webdriver-manager) (0.4.3)\n",
      " \n"
     ]
    },
    {
     "name": "stderr",
     "output_type": "stream",
     "text": [
      "[WDM] - Driver [C:\\Users\\kaushik.mesala\\.wdm\\drivers\\chromedriver\\win32\\86.0.4240.22\\chromedriver.exe] found in cache\n"
     ]
    },
    {
     "name": "stdout",
     "output_type": "stream",
     "text": [
      "Enter anything after scanning QR code\n"
     ]
    },
    {
     "data": {
      "text/plain": [
       "''"
      ]
     },
     "execution_count": 299,
     "metadata": {},
     "output_type": "execute_result"
    }
   ],
   "source": [
    "# email link \n",
    "\n",
    "# https://www.youtube.com/redirect?v=JRCJ6RtE3xU&event=video_description&redir_token=QUFFLUhqbno2c2tTdExRbnFQNnhEbmlILS00VEJFRTJBZ3xBQ3Jtc0tuaEFralhWOU05YUpiWjlidk5IVzR0UlRicmFEMWxBT0E4alUyTjU0b3htT1ZUQllpeExUQXMwaUI0UXY3dFl3MDBIbFF5WU1VZWRMVXRFQVB1bmc5cHhvNi1YTkN1WTgtZ0JxRUdMLW5jUUZDV3J0SQ%3D%3D&q=https%3A%2F%2Fmyaccount.google.com%2Flesssecureapps\n",
    "import urllib.parse\n",
    "import re\n",
    "import os,smtplib\n",
    "import imghdr\n",
    "from email.message import EmailMessage\n",
    "\n",
    "from selenium.webdriver.support import expected_conditions as EC\n",
    "from selenium.webdriver.common.by import By\n",
    "from selenium.webdriver.chrome.options import Options\n",
    "from time import sleep\n",
    "import urllib.parse\n",
    "from selenium.webdriver.support.ui import WebDriverWait\n",
    "import urllib\n",
    "import time\n",
    "# All the global terms\n",
    "###############################################################################################################\n",
    "EMAIL_ADDRESS = '\\.com'\n",
    "EMAIL_PASSWORD = ''\n",
    "FILE_NAME = 'List-of-Bill-Pay.xlsx'\n",
    "DUE_DATE_DIFF = 2\n",
    "\n",
    "subject = 'dfdfd'\n",
    "\n",
    "body = '''\n",
    "Dear \n",
    "\n",
    "Thank you,\n",
    "Kaushik\n",
    "'''\n",
    "###############################################################################################################\n",
    "wait = WebDriverWait(driver, 20)\n",
    "\n",
    "def config_read():\n",
    "    global EMAIL_PASSWORD ,EMAIL_ADDRESS ,FILE_NAME , DUE_DATE_DIFF , subject , body\n",
    "    filename = 'external.config.txt'\n",
    "    contents = open(filename).read()\n",
    "    \n",
    "    config =eval(contents)\n",
    "    \n",
    "    EMAIL_ADDRESS = config['EMAIL_ADDRESS']\n",
    "    EMAIL_PASSWORD = config['EMAIL_PASSWORD']\n",
    "    FILE_NAME = config['FILE_NAME']\n",
    "    DUE_DATE_DIFF = int(config['DUE_DATE_DIFF'])\n",
    "    subject = config['subject']\n",
    "    body = config['body']\n",
    "\n",
    "config_read()\n",
    "print(body)\n",
    "\n",
    "# sending email\n",
    "def sendEmail(subject , body , fromAddress , toAddress , filePath , fileName):\n",
    "\n",
    "    filePath = filePath +\"\\\\\"+fileName\n",
    "    filePath = re.sub(r\"\\\\\",\"//\",filePath )\n",
    "    print(filePath)\n",
    "    msg = EmailMessage()\n",
    "    msg['Subject'] = subject\n",
    "    msg['From'] = EMAIL_ADDRESS\n",
    "    msg['To'] = toAddress\n",
    "    msg.set_content(body)\n",
    "\n",
    "    with open(filePath,'rb') as f:\n",
    "        file_data = f.read()\n",
    "\n",
    "    msg.add_attachment(file_data ,maintype='application' , subtype='octet-stream', filename = fileName)\n",
    "\n",
    "    with smtplib.SMTP_SSL('smtp.gmail.com' ,  465) as smtp:\n",
    "\n",
    "        smtp.login(EMAIL_ADDRESS , EMAIL_PASSWORD)\n",
    "\n",
    "        smtp.send_message(msg)\n",
    "        print('mail sent')         \n",
    "from selenium.webdriver.common.keys import Keys\n",
    "# sending whatsapp message\n",
    "def sendWhatsApp(phoneNum , body, filePath , fileName):    \n",
    "    \n",
    "    \n",
    "    print(\"in sendWhatsApp method\")\n",
    "    url = 'https://web.whatsapp.com/send?phone='+str(phoneNum)+'&text='+urllib.parse.quote(bodyTemp)\n",
    "    driver.get(url)\n",
    "    filePath = filePath +\"\\\\\"+fileName\n",
    "    filePath = re.sub(r\"\\\\\",\"//\",filePath )\n",
    "    time.sleep(5)\n",
    "    send = driver.find_element_by_xpath('//span[@data-icon=\"send\"]')\n",
    "    send.click()\n",
    "    \n",
    "    print(filePath)\n",
    "    \n",
    "    attachment_box = driver.find_element_by_xpath('//div[@title = \"Attach\"]')\n",
    "    attachment_box.click()\n",
    "    \n",
    "    print(\" Attachement attached\")    \n",
    "    attachment = driver.find_element_by_xpath('//input[@accept=\"image/*,video/mp4,video/3gpp,video/quicktime\"]')\n",
    "    attachment.send_keys(file_name)\n",
    "    \n",
    "    sleep(5)\n",
    "    boc = driver.find_element_by_xpath('//*[@id=\"app\"]/div/div/div[2]/div[2]/span/div/span/div/div/div[2]/span/div')\n",
    "    boc.click()\n",
    "    \n",
    "    print(\"whatsapp  send successfully.\")\n",
    "\n",
    "\n",
    "#loading web driver\n",
    "try:\n",
    "    driver= webdriver.Chrome()\n",
    "except:\n",
    "    print('installing webdriver')\n",
    "    !pip install webdriver-manager\n",
    "    from webdriver_manager.chrome import ChromeDriverManager\n",
    "    driver = webdriver.Chrome(ChromeDriverManager().install())\n",
    "\n",
    "driver.get('https://web.whatsapp.com/')\n",
    "input('Enter anything after scanning QR code')"
   ]
  },
  {
   "cell_type": "code",
   "execution_count": 300,
   "metadata": {},
   "outputs": [
    {
     "name": "stdout",
     "output_type": "stream",
     "text": [
      "day_prior = 2020-10-29\n"
     ]
    },
    {
     "data": {
      "application/vnd.jupyter.widget-view+json": {
       "model_id": "6482c79d07604be7a5c6a657e2ffceef",
       "version_major": 2,
       "version_minor": 0
      },
      "text/plain": [
       "HBox(children=(FloatProgress(value=0.0, max=3.0), HTML(value='')))"
      ]
     },
     "metadata": {},
     "output_type": "display_data"
    },
    {
     "name": "stdout",
     "output_type": "stream",
     "text": [
      "partyName : cacston\n",
      "C://Users//kaushik.mesala//Desktop//temp//python.pdf\n",
      "mail sent\n",
      "********\n",
      "in sendWhatsApp method\n",
      "C://Users//kaushik.mesala//Desktop//temp//python.pdf\n",
      " Attachement attached\n",
      "whatsapp  send successfully.\n",
      " Failed :cannot convert float NaN to integer\n",
      " Failed :cannot convert float NaN to integer\n",
      "\n"
     ]
    },
    {
     "name": "stderr",
     "output_type": "stream",
     "text": [
      "<ipython-input-300-cff6d0e7af7d>:42: SettingWithCopyWarning: \n",
      "A value is trying to be set on a copy of a slice from a DataFrame\n",
      "\n",
      "See the caveats in the documentation: https://pandas.pydata.org/pandas-docs/stable/user_guide/indexing.html#returning-a-view-versus-a-copy\n",
      "  df1['Already Done ?'][ind] ='Yes'\n",
      "<ipython-input-300-cff6d0e7af7d>:46: SettingWithCopyWarning: \n",
      "A value is trying to be set on a copy of a slice from a DataFrame\n",
      "\n",
      "See the caveats in the documentation: https://pandas.pydata.org/pandas-docs/stable/user_guide/indexing.html#returning-a-view-versus-a-copy\n",
      "  df1['Already Done ?'][ind] = 'Exception occured'+str(e)\n"
     ]
    },
    {
     "ename": "PermissionError",
     "evalue": "[WinError 32] The process cannot access the file because it is being used by another process: 'List-of-Bill-Pay.xlsx'",
     "output_type": "error",
     "traceback": [
      "\u001b[1;31m---------------------------------------------------------------------------\u001b[0m",
      "\u001b[1;31mPermissionError\u001b[0m                           Traceback (most recent call last)",
      "\u001b[1;32m<ipython-input-300-cff6d0e7af7d>\u001b[0m in \u001b[0;36m<module>\u001b[1;34m\u001b[0m\n\u001b[0;32m     49\u001b[0m \u001b[0mdf\u001b[0m\u001b[1;33m[\u001b[0m\u001b[0mdf\u001b[0m\u001b[1;33m[\u001b[0m\u001b[1;34m'Due date'\u001b[0m\u001b[1;33m]\u001b[0m \u001b[1;33m<=\u001b[0m  \u001b[0mprior_year\u001b[0m\u001b[1;33m]\u001b[0m \u001b[1;33m=\u001b[0m \u001b[0mdf1\u001b[0m\u001b[1;33m\u001b[0m\u001b[1;33m\u001b[0m\u001b[0m\n\u001b[0;32m     50\u001b[0m \u001b[1;33m\u001b[0m\u001b[0m\n\u001b[1;32m---> 51\u001b[1;33m \u001b[0mos\u001b[0m\u001b[1;33m.\u001b[0m\u001b[0mremove\u001b[0m\u001b[1;33m(\u001b[0m\u001b[0mFILE_NAME\u001b[0m\u001b[1;33m)\u001b[0m\u001b[1;33m\u001b[0m\u001b[1;33m\u001b[0m\u001b[0m\n\u001b[0m\u001b[0;32m     52\u001b[0m \u001b[0mdf\u001b[0m\u001b[1;33m.\u001b[0m\u001b[0mto_excel\u001b[0m\u001b[1;33m(\u001b[0m\u001b[0mFILE_NAME\u001b[0m \u001b[1;33m,\u001b[0m \u001b[0mindex\u001b[0m\u001b[1;33m=\u001b[0m\u001b[1;32mFalse\u001b[0m\u001b[1;33m)\u001b[0m\u001b[1;33m\u001b[0m\u001b[1;33m\u001b[0m\u001b[0m\n",
      "\u001b[1;31mPermissionError\u001b[0m: [WinError 32] The process cannot access the file because it is being used by another process: 'List-of-Bill-Pay.xlsx'"
     ]
    }
   ],
   "source": [
    "\n",
    "import pandas as pd\n",
    "import shutil\n",
    "\n",
    "df = pd.read_excel(FILENAME)\n",
    "\n",
    "df['Due date'] = pd.to_datetime(df['Due date'])\n",
    "\n",
    "from datetime import date, timedelta   \n",
    "\n",
    "\n",
    "today = date.today()\n",
    "day_prior =  today - timedelta(days = DUE_DATE_DIFF)\n",
    "print('day_prior =', day_prior)\n",
    "\n",
    "prior_year = str(day_prior.year)+'-'+str(day_prior.month)+'-'+str(day_prior.day)\n",
    "df1 = df[df['Due date'] <=  prior_year ]\n",
    "\n",
    "phoneNum =''\n",
    "bodyTemp =''\n",
    "filePath =''\n",
    "fileName =''\n",
    "\n",
    "from tqdm.auto import tqdm\n",
    "\n",
    "for ind in tqdm(df1.index): \n",
    "    try:\n",
    "        phoneNum = int(df1['Mobile Number'][ind])\n",
    "        dueDate = df1['Due date'][ind]\n",
    "        toAddress = df1['Email Id'][ind]\n",
    "        filePath = df1['file location'][ind]\n",
    "        fileName = df1['outstanding filename'][ind]\n",
    "        if(df1['Already Done ?'][ind] =='yes'):\n",
    "            continue\n",
    "\n",
    "        partyName  = df1['Party name'][ind]\n",
    "        print('partyName :',partyName)\n",
    "        bodyTemp = re.sub(r\"{CompanyName}\", partyName,body )\n",
    "    \n",
    "        sendEmail(subject , bodyTemp , EMAIL_ADDRESS , toAddress , filePath , fileName)\n",
    "        print(\"*\"*8)\n",
    "        sendWhatsApp(phoneNum , bodyTemp, filePath , fileName)\n",
    "        df1['Already Done ?'][ind] ='Yes'\n",
    "        \n",
    "    except Exception as e:\n",
    "        print(' Failed :'+str(e))\n",
    "        df1['Already Done ?'][ind] = 'Exception occured'+str(e)\n",
    "\n",
    "# driver.quit()\n",
    "df[df['Due date'] <=  prior_year] = df1\n",
    "\n",
    "os.remove(FILE_NAME)\n",
    "df.to_excel(FILE_NAME , index=False)        "
   ]
  },
  {
   "cell_type": "code",
   "execution_count": 286,
   "metadata": {},
   "outputs": [],
   "source": []
  },
  {
   "cell_type": "code",
   "execution_count": 295,
   "metadata": {},
   "outputs": [],
   "source": []
  },
  {
   "cell_type": "code",
   "execution_count": 298,
   "metadata": {},
   "outputs": [
    {
     "name": "stdout",
     "output_type": "stream",
     "text": [
      "in sendWhatsApp method\n"
     ]
    },
    {
     "ename": "NoSuchElementException",
     "evalue": "Message: no such element: Unable to locate element: {\"method\":\"xpath\",\"selector\":\"//span[@data-icon=\"send\"]\"}\n  (Session info: chrome=86.0.4240.111)\n",
     "output_type": "error",
     "traceback": [
      "\u001b[1;31m---------------------------------------------------------------------------\u001b[0m",
      "\u001b[1;31mNoSuchElementException\u001b[0m                    Traceback (most recent call last)",
      "\u001b[1;32m<ipython-input-298-58917951d38f>\u001b[0m in \u001b[0;36m<module>\u001b[1;34m\u001b[0m\n\u001b[1;32m----> 1\u001b[1;33m \u001b[0msendWhatsApp\u001b[0m\u001b[1;33m(\u001b[0m\u001b[0mphoneNum\u001b[0m \u001b[1;33m,\u001b[0m \u001b[0mbody\u001b[0m\u001b[1;33m,\u001b[0m \u001b[0mfilePath\u001b[0m \u001b[1;33m,\u001b[0m \u001b[0mfileName\u001b[0m\u001b[1;33m)\u001b[0m\u001b[1;33m\u001b[0m\u001b[1;33m\u001b[0m\u001b[0m\n\u001b[0m",
      "\u001b[1;32m<ipython-input-296-189759573d06>\u001b[0m in \u001b[0;36msendWhatsApp\u001b[1;34m(phoneNum, body, filePath, fileName)\u001b[0m\n\u001b[0;32m     85\u001b[0m     \u001b[0mfilePath\u001b[0m \u001b[1;33m=\u001b[0m \u001b[0mre\u001b[0m\u001b[1;33m.\u001b[0m\u001b[0msub\u001b[0m\u001b[1;33m(\u001b[0m\u001b[1;34mr\"\\\\\"\u001b[0m\u001b[1;33m,\u001b[0m\u001b[1;34m\"//\"\u001b[0m\u001b[1;33m,\u001b[0m\u001b[0mfilePath\u001b[0m \u001b[1;33m)\u001b[0m\u001b[1;33m\u001b[0m\u001b[1;33m\u001b[0m\u001b[0m\n\u001b[0;32m     86\u001b[0m \u001b[1;33m\u001b[0m\u001b[0m\n\u001b[1;32m---> 87\u001b[1;33m     \u001b[0msend\u001b[0m \u001b[1;33m=\u001b[0m \u001b[0mdriver\u001b[0m\u001b[1;33m.\u001b[0m\u001b[0mfind_element_by_xpath\u001b[0m\u001b[1;33m(\u001b[0m\u001b[1;34m'//span[@data-icon=\"send\"]'\u001b[0m\u001b[1;33m)\u001b[0m\u001b[1;33m\u001b[0m\u001b[1;33m\u001b[0m\u001b[0m\n\u001b[0m\u001b[0;32m     88\u001b[0m     \u001b[0msend\u001b[0m\u001b[1;33m.\u001b[0m\u001b[0mclick\u001b[0m\u001b[1;33m(\u001b[0m\u001b[1;33m)\u001b[0m\u001b[1;33m\u001b[0m\u001b[1;33m\u001b[0m\u001b[0m\n\u001b[0;32m     89\u001b[0m \u001b[1;33m\u001b[0m\u001b[0m\n",
      "\u001b[1;32mD:\\all-Software-Installers\\Anaconda\\lib\\site-packages\\selenium\\webdriver\\remote\\webdriver.py\u001b[0m in \u001b[0;36mfind_element_by_xpath\u001b[1;34m(self, xpath)\u001b[0m\n\u001b[0;32m    392\u001b[0m             \u001b[0melement\u001b[0m \u001b[1;33m=\u001b[0m \u001b[0mdriver\u001b[0m\u001b[1;33m.\u001b[0m\u001b[0mfind_element_by_xpath\u001b[0m\u001b[1;33m(\u001b[0m\u001b[1;34m'//div/td[1]'\u001b[0m\u001b[1;33m)\u001b[0m\u001b[1;33m\u001b[0m\u001b[1;33m\u001b[0m\u001b[0m\n\u001b[0;32m    393\u001b[0m         \"\"\"\n\u001b[1;32m--> 394\u001b[1;33m         \u001b[1;32mreturn\u001b[0m \u001b[0mself\u001b[0m\u001b[1;33m.\u001b[0m\u001b[0mfind_element\u001b[0m\u001b[1;33m(\u001b[0m\u001b[0mby\u001b[0m\u001b[1;33m=\u001b[0m\u001b[0mBy\u001b[0m\u001b[1;33m.\u001b[0m\u001b[0mXPATH\u001b[0m\u001b[1;33m,\u001b[0m \u001b[0mvalue\u001b[0m\u001b[1;33m=\u001b[0m\u001b[0mxpath\u001b[0m\u001b[1;33m)\u001b[0m\u001b[1;33m\u001b[0m\u001b[1;33m\u001b[0m\u001b[0m\n\u001b[0m\u001b[0;32m    395\u001b[0m \u001b[1;33m\u001b[0m\u001b[0m\n\u001b[0;32m    396\u001b[0m     \u001b[1;32mdef\u001b[0m \u001b[0mfind_elements_by_xpath\u001b[0m\u001b[1;33m(\u001b[0m\u001b[0mself\u001b[0m\u001b[1;33m,\u001b[0m \u001b[0mxpath\u001b[0m\u001b[1;33m)\u001b[0m\u001b[1;33m:\u001b[0m\u001b[1;33m\u001b[0m\u001b[1;33m\u001b[0m\u001b[0m\n",
      "\u001b[1;32mD:\\all-Software-Installers\\Anaconda\\lib\\site-packages\\selenium\\webdriver\\remote\\webdriver.py\u001b[0m in \u001b[0;36mfind_element\u001b[1;34m(self, by, value)\u001b[0m\n\u001b[0;32m    974\u001b[0m                 \u001b[0mby\u001b[0m \u001b[1;33m=\u001b[0m \u001b[0mBy\u001b[0m\u001b[1;33m.\u001b[0m\u001b[0mCSS_SELECTOR\u001b[0m\u001b[1;33m\u001b[0m\u001b[1;33m\u001b[0m\u001b[0m\n\u001b[0;32m    975\u001b[0m                 \u001b[0mvalue\u001b[0m \u001b[1;33m=\u001b[0m \u001b[1;34m'[name=\"%s\"]'\u001b[0m \u001b[1;33m%\u001b[0m \u001b[0mvalue\u001b[0m\u001b[1;33m\u001b[0m\u001b[1;33m\u001b[0m\u001b[0m\n\u001b[1;32m--> 976\u001b[1;33m         return self.execute(Command.FIND_ELEMENT, {\n\u001b[0m\u001b[0;32m    977\u001b[0m             \u001b[1;34m'using'\u001b[0m\u001b[1;33m:\u001b[0m \u001b[0mby\u001b[0m\u001b[1;33m,\u001b[0m\u001b[1;33m\u001b[0m\u001b[1;33m\u001b[0m\u001b[0m\n\u001b[0;32m    978\u001b[0m             'value': value})['value']\n",
      "\u001b[1;32mD:\\all-Software-Installers\\Anaconda\\lib\\site-packages\\selenium\\webdriver\\remote\\webdriver.py\u001b[0m in \u001b[0;36mexecute\u001b[1;34m(self, driver_command, params)\u001b[0m\n\u001b[0;32m    319\u001b[0m         \u001b[0mresponse\u001b[0m \u001b[1;33m=\u001b[0m \u001b[0mself\u001b[0m\u001b[1;33m.\u001b[0m\u001b[0mcommand_executor\u001b[0m\u001b[1;33m.\u001b[0m\u001b[0mexecute\u001b[0m\u001b[1;33m(\u001b[0m\u001b[0mdriver_command\u001b[0m\u001b[1;33m,\u001b[0m \u001b[0mparams\u001b[0m\u001b[1;33m)\u001b[0m\u001b[1;33m\u001b[0m\u001b[1;33m\u001b[0m\u001b[0m\n\u001b[0;32m    320\u001b[0m         \u001b[1;32mif\u001b[0m \u001b[0mresponse\u001b[0m\u001b[1;33m:\u001b[0m\u001b[1;33m\u001b[0m\u001b[1;33m\u001b[0m\u001b[0m\n\u001b[1;32m--> 321\u001b[1;33m             \u001b[0mself\u001b[0m\u001b[1;33m.\u001b[0m\u001b[0merror_handler\u001b[0m\u001b[1;33m.\u001b[0m\u001b[0mcheck_response\u001b[0m\u001b[1;33m(\u001b[0m\u001b[0mresponse\u001b[0m\u001b[1;33m)\u001b[0m\u001b[1;33m\u001b[0m\u001b[1;33m\u001b[0m\u001b[0m\n\u001b[0m\u001b[0;32m    322\u001b[0m             response['value'] = self._unwrap_value(\n\u001b[0;32m    323\u001b[0m                 response.get('value', None))\n",
      "\u001b[1;32mD:\\all-Software-Installers\\Anaconda\\lib\\site-packages\\selenium\\webdriver\\remote\\errorhandler.py\u001b[0m in \u001b[0;36mcheck_response\u001b[1;34m(self, response)\u001b[0m\n\u001b[0;32m    240\u001b[0m                 \u001b[0malert_text\u001b[0m \u001b[1;33m=\u001b[0m \u001b[0mvalue\u001b[0m\u001b[1;33m[\u001b[0m\u001b[1;34m'alert'\u001b[0m\u001b[1;33m]\u001b[0m\u001b[1;33m.\u001b[0m\u001b[0mget\u001b[0m\u001b[1;33m(\u001b[0m\u001b[1;34m'text'\u001b[0m\u001b[1;33m)\u001b[0m\u001b[1;33m\u001b[0m\u001b[1;33m\u001b[0m\u001b[0m\n\u001b[0;32m    241\u001b[0m             \u001b[1;32mraise\u001b[0m \u001b[0mexception_class\u001b[0m\u001b[1;33m(\u001b[0m\u001b[0mmessage\u001b[0m\u001b[1;33m,\u001b[0m \u001b[0mscreen\u001b[0m\u001b[1;33m,\u001b[0m \u001b[0mstacktrace\u001b[0m\u001b[1;33m,\u001b[0m \u001b[0malert_text\u001b[0m\u001b[1;33m)\u001b[0m\u001b[1;33m\u001b[0m\u001b[1;33m\u001b[0m\u001b[0m\n\u001b[1;32m--> 242\u001b[1;33m         \u001b[1;32mraise\u001b[0m \u001b[0mexception_class\u001b[0m\u001b[1;33m(\u001b[0m\u001b[0mmessage\u001b[0m\u001b[1;33m,\u001b[0m \u001b[0mscreen\u001b[0m\u001b[1;33m,\u001b[0m \u001b[0mstacktrace\u001b[0m\u001b[1;33m)\u001b[0m\u001b[1;33m\u001b[0m\u001b[1;33m\u001b[0m\u001b[0m\n\u001b[0m\u001b[0;32m    243\u001b[0m \u001b[1;33m\u001b[0m\u001b[0m\n\u001b[0;32m    244\u001b[0m     \u001b[1;32mdef\u001b[0m \u001b[0m_value_or_default\u001b[0m\u001b[1;33m(\u001b[0m\u001b[0mself\u001b[0m\u001b[1;33m,\u001b[0m \u001b[0mobj\u001b[0m\u001b[1;33m,\u001b[0m \u001b[0mkey\u001b[0m\u001b[1;33m,\u001b[0m \u001b[0mdefault\u001b[0m\u001b[1;33m)\u001b[0m\u001b[1;33m:\u001b[0m\u001b[1;33m\u001b[0m\u001b[1;33m\u001b[0m\u001b[0m\n",
      "\u001b[1;31mNoSuchElementException\u001b[0m: Message: no such element: Unable to locate element: {\"method\":\"xpath\",\"selector\":\"//span[@data-icon=\"send\"]\"}\n  (Session info: chrome=86.0.4240.111)\n"
     ]
    }
   ],
   "source": [
    "sendWhatsApp(phoneNum , body, filePath , fileName)"
   ]
  }
 ],
 "metadata": {
  "kernelspec": {
   "display_name": "Python 3",
   "language": "python",
   "name": "python3"
  },
  "language_info": {
   "codemirror_mode": {
    "name": "ipython",
    "version": 3
   },
   "file_extension": ".py",
   "mimetype": "text/x-python",
   "name": "python",
   "nbconvert_exporter": "python",
   "pygments_lexer": "ipython3",
   "version": "3.8.3"
  }
 },
 "nbformat": 4,
 "nbformat_minor": 4
}
